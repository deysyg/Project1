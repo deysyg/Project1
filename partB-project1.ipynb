{
 "cells": [
  {
   "cell_type": "code",
   "execution_count": 30,
   "id": "1301ca41-0527-4ca2-941d-c335e888b493",
   "metadata": {},
   "outputs": [],
   "source": [
    "import networkx as nx\n",
    "import random"
   ]
  },
  {
   "cell_type": "code",
   "execution_count": 31,
   "id": "24a49c8d-9ed1-4fb1-80ea-a306c181a042",
   "metadata": {},
   "outputs": [],
   "source": [
    "#simulation parameters \n",
    "i = 0\n",
    "k = 3 #defined as 3 for its default value and is dependent of the amount of budget the city is willing to invest in new roads\n",
    "f = 0.8 # shrinkage factor default value\n",
    "p = .1 # average connectivity of nodes across the network with .05 as its fixed value\n",
    "N =60 #fixed number of location inside the network\n",
    "L_min = 5 #minimum road length\n",
    "L_max = 25 #maximum road length\n",
    "T = 100 # number of trips that would be generated at each clock tick"
   ]
  },
  {
   "cell_type": "code",
   "execution_count": 32,
   "id": "eb618400-63f1-4255-bb4a-9ab650fed422",
   "metadata": {},
   "outputs": [],
   "source": [
    "#function to generate random trips thoughout N number of nodes\n",
    "#lets list them as touples for an (X,Y) X-start Y-end\n",
    "def generate_random():\n",
    "    trips = []\n",
    "    for _ in range(T):#range in 100 trips\n",
    "        start = random.randint(0, N-1)#satart and end at random int from 0-99\n",
    "        end = random.randint(0, N-1)\n",
    "        while start == end:# only if by chance while start equals end\n",
    "            end = random.randint(0, N-1) # end gets anoter chance of initialization\n",
    "        trips.append((start, end))# append to the empty list trips[] with (X,Y) i.e list of tuples\n",
    "    return trips # return the list of trips"
   ]
  },
  {
   "cell_type": "code",
   "execution_count": 33,
   "id": "58511d8a-d488-4404-af8c-378daa3ca370",
   "metadata": {},
   "outputs": [],
   "source": [
    "\n",
    "def compute_trip_count(graph, X, Y):\n",
    "    # Placeholder function\n",
    "    return random.randint(50, 150)  # Random count for demonstration\n"
   ]
  },
  {
   "cell_type": "code",
   "execution_count": 34,
   "id": "7e65f4aa-ba05-4eb4-b436-5725be11fe23",
   "metadata": {},
   "outputs": [],
   "source": [
    " #computing benifit matrix\n",
    "def compute_benefit_matrix(graph):\n",
    "    benefit_matrix = []\n",
    "    for i in range(N):# for i/j in range of N (60 nodes) iterating through the graph\n",
    "        for j in range(i+1, N):\n",
    "            if not graph.has_edge(i, j):# if graph has the following edge when iterating\n",
    "                benefit = compute_benefit(graph, i, j)# then benifit equals the function call with the specified parameters\n",
    "                benefit_matrix.append((i, j, benefit))# append to the empthy list\n",
    "    benefit_matrix.sort(key=lambda x: x[2], reverse=True)# sort the benifit matrix list\n",
    "    return benefit_matrix# return the list\n"
   ]
  },
  {
   "cell_type": "code",
   "execution_count": 35,
   "id": "3fef6e53-7393-46d8-b9a2-693516089600",
   "metadata": {},
   "outputs": [],
   "source": [
    "#2. Compute benifits matrix Benifit(X,Y) {benifit would be the how much a road benifits the network to decrease path}\n",
    "# graph: NetworkX graph\n",
    "# X,Y the two selected nodes representing different locations \n",
    "def compute_benefit(graph, X, Y):\n",
    "    shortest_Dist = nx.shortest_path_length(graph, source=X, target=Y)\n",
    "    direct_Dist = shortest_Dist * f\n",
    "    benefit = (shortest_Dist - direct_Dist) * (compute_trip_count(graph, X, Y) + compute_trip_count(graph, Y, X))\n",
    "    neighbor_X = set(graph.neighbors(X))\n",
    "    neighbor_Y = set(graph.neighbors(Y))\n",
    "    for n1 in neighbor_X:\n",
    "        if n1 != Y:\n",
    "            benefit += max(nx.shortest_path_length(graph, source=X, target=n1) - shortest_Dist - nx.shortest_path_length(graph, source=Y, target=n1), 0) * compute_trip_count(graph, X, n1)\n",
    "    for n2 in neighbor_Y:\n",
    "        if n2 != X:\n",
    "            benefit += max(nx.shortest_path_length(graph, source=Y, target=n2) - shortest_Dist - nx.shortest_path_length(graph, source=X, target=n2), 0) * compute_trip_count(graph, Y, n2)\n",
    "    return benefit\n"
   ]
  },
  {
   "cell_type": "code",
   "execution_count": 36,
   "id": "a9234155-bbb3-4d56-9c9d-98c63c81bd9f",
   "metadata": {},
   "outputs": [],
   "source": [
    "#7.function to update benifit matrix after building a road with the highest benifit\n",
    "#L,M is the nodes where the road is being built to connect them\n",
    "#benifit matrix: list of touples (X,Y,benifit) i.e.potential road connections and the benifit factor\n",
    "def update_matrix(graph, L, M, benefit_matrix):\n",
    "    for i in range(N):\n",
    "        for j in range(i+1, N):\n",
    "            if not graph.has_edge(i, j):\n",
    "                if i == L or i == M or j == M or j == L:\n",
    "                    benefit_matrix.append((i, j, compute_benefit(graph, i, j)))\n",
    "    benefit_matrix.sort(key=lambda x: x[2], reverse=True)# sort te updated matrix\n"
   ]
  },
  {
   "cell_type": "code",
   "execution_count": 37,
   "id": "954f1fa5-587e-4d08-a0b9-1168899b26be",
   "metadata": {},
   "outputs": [
    {
     "name": "stdout",
     "output_type": "stream",
     "text": [
      "Recommended Roads for construction:\n",
      "Segment: (0, 2)  Benefit: 139.8\n",
      "Segment: (1, 2)  Benefit: 124.8\n",
      "Segment: (2, 3)  Benefit: 97.2\n"
     ]
    }
   ],
   "source": [
    "#below is the main function to run the algorithm and it should return the final network after building the recommended roads\n",
    "def main():\n",
    "    #generate a random graph with aprox .05 connectivity\n",
    "    graph = nx.random_graphs.erdos_renyi_graph(N, p)\n",
    "    all_roads = []#all possible roads empty list\n",
    "\n",
    "    for segment in [(0, 2), (0, 3), (1, 2), (1, 4), (2, 3)]:#provided network\n",
    "        benefit = compute_benefit(graph, segment[0], segment[1])\n",
    "        all_roads.append((segment, round(benefit, 2)))#rounding benifit value\n",
    "\n",
    "    all_roads.sort(key=lambda x: x[1], reverse=True)\n",
    "    recommended_roads = all_roads[:k]# gettng the first 3 recommended segments based on budget\n",
    "    \n",
    "    return graph, recommended_roads, all_roads\n",
    "\n",
    "# Run the main function\n",
    "final_network, recommended_roads, all_roads = main()\n",
    "\n",
    "print(\"Recommended Roads for construction:\")\n",
    "for segment, benefit in recommended_roads:\n",
    "    print(\"Segment:\", segment, \" Benefit:\", benefit)"
   ]
  },
  {
   "cell_type": "code",
   "execution_count": 38,
   "id": "4be039b0-b893-4825-a1f3-a30db5638735",
   "metadata": {},
   "outputs": [
    {
     "data": {
      "text/plain": [
       "'Final Network Edges: [(0, 1), (0, 2), (0, 3), (0, 4), (1, 2), (1, 3), (2, 3), (2, 4), (3, 4)]\\nRecommended Segments for Construction:\\nSegment: (1, 4) | Benefit: 103.2\\nSegment: (1, 2) | Benefit: 55.0\\n\\nOverall Benefit Factors for All Segments Considered:\\nSegment: (1, 4) | Benefit: 103.2\\nSegment: (1, 2) | Benefit: 55.0\\nSegment: (0, 3) | Benefit: 53.4\\nSegment: (0, 2) | Benefit: 46.0\\nSegment: (2, 3) | Benefit: 44.6'"
      ]
     },
     "execution_count": 38,
     "metadata": {},
     "output_type": "execute_result"
    }
   ],
   "source": [
    "#R2 - road (1,4) and (1,2) would be recommended for construction \n",
    "'''\n",
    "for the below output for R2 solution I placed the main() function as the following:\n",
    "\n",
    "def main():\n",
    "    graph=nx.nxconnected_watts_strogatz_graph(N,4,P) \n",
    "\n",
    "    for u,v in [(0,1),(0,4),(1,3),(2,4),(3,4)]:\n",
    "        graph.add_edge(u,v,weight=random.randint(L_min,L_max))\n",
    "    all_roads=[]\n",
    "\n",
    "    for segment in [(0,2),(0,3),(1,2),(1,4),(2,3)]:\n",
    "        benifit=compute_benifit(graph,segment[0],segment[1])\n",
    "        all_roads.append((segment,round(benifit,2)))\n",
    "\n",
    "    all_roads.sort(key=lambda x:x[1],reverse=True)\n",
    "    recommended_roads = all_roads[:2]\n",
    "\n",
    "    return graph,recommended_roads,all_roads\n",
    "\n",
    "final_network,recommended_roads,all_roads = main()\n",
    "print(\"final network edges\",final_network.edges())\n",
    "print(\"recommended roads:\")\n",
    "for segment,benifit in recommended_roads:\n",
    "    print(\"Segment:\",segment,\"benig=fit:\",benifit)\n",
    "\n",
    "'''\n",
    "'''Final Network Edges: [(0, 1), (0, 2), (0, 3), (0, 4), (1, 2), (1, 3), (2, 3), (2, 4), (3, 4)]\n",
    "Recommended Segments for Construction:\n",
    "Segment: (1, 4) | Benefit: 103.2\n",
    "Segment: (1, 2) | Benefit: 55.0\n",
    "\n",
    "Overall Benefit Factors for All Segments Considered:\n",
    "Segment: (1, 4) | Benefit: 103.2\n",
    "Segment: (1, 2) | Benefit: 55.0\n",
    "Segment: (0, 3) | Benefit: 53.4\n",
    "Segment: (0, 2) | Benefit: 46.0\n",
    "Segment: (2, 3) | Benefit: 44.6'''"
   ]
  },
  {
   "cell_type": "code",
   "execution_count": 40,
   "id": "0e9b2e89-964e-4eba-b294-128e6fb282cb",
   "metadata": {},
   "outputs": [
    {
     "data": {
      "text/plain": [
       "'\\nR4 : (a,b)\\nroads=segment these are the roads to be constructed(10th time ran through)\\nSegment: (2, 3)  Benefit: 577.8\\nSegment: (0, 2)  Benefit: 507.2\\nSegment: (1, 2)  Benefit: 438.2\\n\\nc) the recommendations of the roads would change given that the factorization number changed to .8\\nbecause originally I had it at .6 then the shrinkage factor for computing the direct distance between nodes is increased. \\nThis will result in shorter direc distances between nodes and will affect the benifit factor.\\n\\nR5: If I double the connectivity used in R3 (p=.1) then if the simulation runs again we get different results\\nbelow is the following results(first time ran through):\\n\\nRecommended Roads for construction:\\nSegment: (0, 3)  Benefit: 156.0\\nSegment: (0, 2)  Benefit: 118.2\\nSegment: (1, 2)  Benefit: 103.6\\nHigher connectivity just means that each node will have more edges.\\nEach node in the network are more likely to be connected to other nodes. Traffic will also flow smoother with more connections.\\nSo, it makes sense that the benifit value shruck given the increase of options.\\n'"
      ]
     },
     "execution_count": 40,
     "metadata": {},
     "output_type": "execute_result"
    }
   ],
   "source": [
    "#Answers to R3,R4,and R5\n",
    "'''\n",
    "R4 : (a,b)\n",
    "roads=segment these are the roads to be constructed(10th time ran through)\n",
    "Segment: (2, 3)  Benefit: 577.8\n",
    "Segment: (0, 2)  Benefit: 507.2\n",
    "Segment: (1, 2)  Benefit: 438.2\n",
    "\n",
    "c) the recommendations of the roads would change given that the factorization number changed to .8\n",
    "because originally I had it at .6 then the shrinkage factor for computing the direct distance between nodes is increased. \n",
    "This will result in shorter direc distances between nodes and will affect the benifit factor.\n",
    "\n",
    "R5: If I double the connectivity used in R3 (p=.1) then if the simulation runs again we get different results\n",
    "below is the following results(first time ran through):\n",
    "\n",
    "Recommended Roads for construction:\n",
    "Segment: (0, 3)  Benefit: 156.0\n",
    "Segment: (0, 2)  Benefit: 118.2\n",
    "Segment: (1, 2)  Benefit: 103.6\n",
    "Higher connectivity just means that each node will have more edges.\n",
    "Each node in the network are more likely to be connected to other nodes. Traffic will also flow smoother with more connections.\n",
    "So, it makes sense that the benifit value shruck given the increase of options.\n",
    "'''\n"
   ]
  },
  {
   "cell_type": "code",
   "execution_count": null,
   "id": "75faf938-f5eb-4ae6-902f-c9d69bb24fc9",
   "metadata": {},
   "outputs": [],
   "source": []
  },
  {
   "cell_type": "code",
   "execution_count": null,
   "id": "193463dd-f69b-4cee-8f2c-5b7ec8a465bc",
   "metadata": {},
   "outputs": [],
   "source": []
  }
 ],
 "metadata": {
  "kernelspec": {
   "display_name": "Python 3 (ipykernel)",
   "language": "python",
   "name": "python3"
  },
  "language_info": {
   "codemirror_mode": {
    "name": "ipython",
    "version": 3
   },
   "file_extension": ".py",
   "mimetype": "text/x-python",
   "name": "python",
   "nbconvert_exporter": "python",
   "pygments_lexer": "ipython3",
   "version": "3.11.5"
  }
 },
 "nbformat": 4,
 "nbformat_minor": 5
}
